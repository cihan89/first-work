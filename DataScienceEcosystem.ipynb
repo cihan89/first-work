{
 "cells": [
  {
   "cell_type": "markdown",
   "id": "acec4a54-7363-46c4-9329-fb220babc53f",
   "metadata": {},
   "source": [
    "#Data Science Tools and Ecosystem\n"
   ]
  },
  {
   "cell_type": "code",
   "execution_count": null,
   "id": "f84e1723-28fd-4ede-898d-e2df0ef69234",
   "metadata": {},
   "outputs": [],
   "source": []
  },
  {
   "cell_type": "markdown",
   "id": "5b437640-34e1-4c2f-8ff4-d82244d56b23",
   "metadata": {},
   "source": []
  },
  {
   "cell_type": "code",
   "execution_count": null,
   "id": "31ff6f3f-7ce9-4939-a7dc-799b0461eca8",
   "metadata": {},
   "outputs": [],
   "source": []
  },
  {
   "cell_type": "code",
   "execution_count": 8,
   "id": "7ec66b3d-0426-4b36-9ff4-56e9a9c76d71",
   "metadata": {},
   "outputs": [],
   "source": [
    "#In this notebook, Data Science Tools and Ecosystem are summarized."
   ]
  },
  {
   "cell_type": "markdown",
   "id": "647bccbc-4c2a-4a41-a226-336480431ade",
   "metadata": {},
   "source": [
    "#Objectives:\n",
    "'pyton','R','Excel'\n"
   ]
  },
  {
   "cell_type": "markdown",
   "id": "e7ec4d8a-ff35-48d7-ae05-fa650d048875",
   "metadata": {},
   "source": []
  },
  {
   "cell_type": "code",
   "execution_count": null,
   "id": "b31cc6c4-0fea-4d50-b209-9d6642f07709",
   "metadata": {},
   "outputs": [],
   "source": []
  },
  {
   "cell_type": "code",
   "execution_count": 16,
   "id": "d49ac843-aad8-464a-9b5c-d83882beb77b",
   "metadata": {},
   "outputs": [
    {
     "name": "stdout",
     "output_type": "stream",
     "text": [
      "Some of the popular languages that Data Scientists use are:\n",
      "['pyton', 'R', 'Excel']\n"
     ]
    }
   ],
   "source": [
    "print(\"Some of the popular languages that Data Scientists use are:\")\n",
    "order_list=['pyton','R','Excel']\n",
    "print(order_list)"
   ]
  },
  {
   "cell_type": "code",
   "execution_count": 20,
   "id": "5bf07b76-ef95-4b0e-9ae2-fa0b40b10d30",
   "metadata": {},
   "outputs": [],
   "source": [
    "x=[\"Data Science Tools\",\n",
    " \"Jupyter Notebook\",\n",
    " \"Apache Spark\",\n",
    " \"NumPy\"\n",
    "]"
   ]
  },
  {
   "cell_type": "code",
   "execution_count": 26,
   "id": "0d6ad353-c0f2-4164-adec-57c715c436d4",
   "metadata": {},
   "outputs": [
    {
     "name": "stdout",
     "output_type": "stream",
     "text": [
      "['Data Science Tools', 'Jupyter Notebook', 'Apache Spark', 'NumPy']\n"
     ]
    }
   ],
   "source": [
    "print(x)"
   ]
  },
  {
   "cell_type": "code",
   "execution_count": 24,
   "id": "341f1b24-fa95-4d7a-9131-daad67191497",
   "metadata": {},
   "outputs": [
    {
     "data": {
      "text/plain": [
       "['__add__',\n",
       " '__class__',\n",
       " '__class_getitem__',\n",
       " '__contains__',\n",
       " '__delattr__',\n",
       " '__delitem__',\n",
       " '__dir__',\n",
       " '__doc__',\n",
       " '__eq__',\n",
       " '__format__',\n",
       " '__ge__',\n",
       " '__getattribute__',\n",
       " '__getitem__',\n",
       " '__getstate__',\n",
       " '__gt__',\n",
       " '__hash__',\n",
       " '__iadd__',\n",
       " '__imul__',\n",
       " '__init__',\n",
       " '__init_subclass__',\n",
       " '__iter__',\n",
       " '__le__',\n",
       " '__len__',\n",
       " '__lt__',\n",
       " '__mul__',\n",
       " '__ne__',\n",
       " '__new__',\n",
       " '__reduce__',\n",
       " '__reduce_ex__',\n",
       " '__repr__',\n",
       " '__reversed__',\n",
       " '__rmul__',\n",
       " '__setattr__',\n",
       " '__setitem__',\n",
       " '__sizeof__',\n",
       " '__str__',\n",
       " '__subclasshook__',\n",
       " 'append',\n",
       " 'clear',\n",
       " 'copy',\n",
       " 'count',\n",
       " 'extend',\n",
       " 'index',\n",
       " 'insert',\n",
       " 'pop',\n",
       " 'remove',\n",
       " 'reverse',\n",
       " 'sort']"
      ]
     },
     "execution_count": 24,
     "metadata": {},
     "output_type": "execute_result"
    }
   ],
   "source": [
    "dir(list)"
   ]
  },
  {
   "cell_type": "code",
   "execution_count": 28,
   "id": "f40d0ed9-3d41-4155-8381-5f9000380d4a",
   "metadata": {},
   "outputs": [],
   "source": [
    "import pandas as pd"
   ]
  },
  {
   "cell_type": "code",
   "execution_count": 38,
   "id": "0abf69de-6f06-4d4d-8871-272e3a788e9c",
   "metadata": {},
   "outputs": [],
   "source": [
    "tablo=pd.DataFrame(data=['Jupyter Notebook', 'Apache Spark', 'NumPy'],index=[\"a\",\"b\",\"c\",],columns=['Data Science Tools'])"
   ]
  },
  {
   "cell_type": "code",
   "execution_count": 42,
   "id": "764bfacc-7090-48fa-9643-571fbe9bb307",
   "metadata": {},
   "outputs": [
    {
     "name": "stdout",
     "output_type": "stream",
     "text": [
      "  Data Science Tools\n",
      "a   Jupyter Notebook\n",
      "b       Apache Spark\n",
      "c              NumPy\n"
     ]
    }
   ],
   "source": [
    "print(tablo)"
   ]
  },
  {
   "cell_type": "markdown",
   "id": "7443c4a4-f7e1-419e-95cb-d684f34f63b4",
   "metadata": {},
   "source": [
    "### Below are a few examples of evaluating arithmetic expressions in Python"
   ]
  },
  {
   "cell_type": "code",
   "execution_count": 47,
   "id": "01164beb-ed8f-4508-8d5b-bced7c5b687d",
   "metadata": {},
   "outputs": [
    {
     "data": {
      "text/plain": [
       "17"
      ]
     },
     "execution_count": 47,
     "metadata": {},
     "output_type": "execute_result"
    }
   ],
   "source": [
    "#This a simple arithmetic expression to mutiply then add integers.\n",
    "(3*4)+5"
   ]
  },
  {
   "cell_type": "code",
   "execution_count": 49,
   "id": "caee6de2-8fad-4fdc-bb11-e7dac15900f2",
   "metadata": {},
   "outputs": [
    {
     "data": {
      "text/plain": [
       "3.3333333333333335"
      ]
     },
     "execution_count": 49,
     "metadata": {},
     "output_type": "execute_result"
    }
   ],
   "source": [
    "# This will convert 200 minutes to hours by diving by 60.\n",
    "200/60"
   ]
  },
  {
   "cell_type": "markdown",
   "id": "7a174002-f2d7-400e-a062-a113d61fefb1",
   "metadata": {},
   "source": [
    "##Author"
   ]
  },
  {
   "cell_type": "markdown",
   "id": "f0fea67a-e49c-44df-85cc-1cc50cc993d5",
   "metadata": {},
   "source": [
    "##Author"
   ]
  },
  {
   "cell_type": "markdown",
   "id": "1d3eea13-a765-4e83-9f74-47aee65fd09b",
   "metadata": {},
   "source": [
    "## AUTHOR"
   ]
  },
  {
   "cell_type": "code",
   "execution_count": 59,
   "id": "08f9aa4c-145b-44cd-893a-68573b1da85d",
   "metadata": {},
   "outputs": [
    {
     "data": {
      "text/plain": [
       "'Cihan'"
      ]
     },
     "execution_count": 59,
     "metadata": {},
     "output_type": "execute_result"
    }
   ],
   "source": [
    "\"Cihan\""
   ]
  },
  {
   "cell_type": "code",
   "execution_count": null,
   "id": "e524de99-e77f-4558-af27-2e854f07cf1e",
   "metadata": {},
   "outputs": [],
   "source": []
  },
  {
   "cell_type": "code",
   "execution_count": null,
   "id": "58306d99-8d08-4c2b-b91f-1540d46a00f8",
   "metadata": {},
   "outputs": [],
   "source": []
  }
 ],
 "metadata": {
  "kernelspec": {
   "display_name": "Python 3 (ipykernel)",
   "language": "python",
   "name": "python3"
  },
  "language_info": {
   "codemirror_mode": {
    "name": "ipython",
    "version": 3
   },
   "file_extension": ".py",
   "mimetype": "text/x-python",
   "name": "python",
   "nbconvert_exporter": "python",
   "pygments_lexer": "ipython3",
   "version": "3.12.4"
  }
 },
 "nbformat": 4,
 "nbformat_minor": 5
}
